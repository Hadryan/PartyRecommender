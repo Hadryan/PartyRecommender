{
 "cells": [
  {
   "cell_type": "code",
   "execution_count": 220,
   "id": "4b87c784",
   "metadata": {},
   "outputs": [],
   "source": [
    "import tekore as tk\n",
    "import asyncio\n",
    "\n",
    "client_id = '1a11d5c3f04d467da9a1de4331efc7e8'\n",
    "client_secret = '695877a5bba444fa9b433594f160a094'"
   ]
  },
  {
   "cell_type": "markdown",
   "id": "47af9239",
   "metadata": {},
   "source": [
    "## Authorize app"
   ]
  },
  {
   "cell_type": "code",
   "execution_count": 221,
   "id": "2f9fe7a8",
   "metadata": {},
   "outputs": [],
   "source": [
    "app_token = tk.request_client_token(client_id, client_secret)\n"
   ]
  },
  {
   "cell_type": "code",
   "execution_count": 222,
   "id": "7e7ed1cc",
   "metadata": {},
   "outputs": [],
   "source": [
    "spotify = tk.Spotify(app_token, chunked_on=True)"
   ]
  },
  {
   "cell_type": "code",
   "execution_count": 223,
   "id": "760d8938",
   "metadata": {},
   "outputs": [],
   "source": [
    "party = {\n",
    "        \"lenar\": 'nndt22q5jz94jmno65men0kck',\n",
    "        \"igor\": 'pc5gqg4ffd3lebpnqo9q7kxef',\n",
    "        \"roma\": 'qni8wxx6xl3e1mm57bq0uch4c',\n",
    "        \"artem\": 'q4snwiny17hwum3zg434ien5c',\n",
    "        \"farit\": '31rsvq6w2v4hlz7aluauciait62y'\n",
    "    }"
   ]
  },
  {
   "cell_type": "code",
   "execution_count": 224,
   "id": "0bbc95a3",
   "metadata": {},
   "outputs": [],
   "source": [
    "def get_track_features(track, member):\n",
    "    return {\"song_name\": track.name,\n",
    "     \"explicit\": track.explicit,\n",
    "     \"popularity\": track.popularity,\n",
    "     \"member\": member\n",
    "    }\n",
    "    "
   ]
  },
  {
   "cell_type": "code",
   "execution_count": 226,
   "id": "4244e5d0",
   "metadata": {},
   "outputs": [
    {
     "name": "stdout",
     "output_type": "stream",
     "text": [
      "lenar\n",
      "igor\n",
      "roma\n",
      "artem\n",
      "farit\n"
     ]
    }
   ],
   "source": [
    "tracks_info = {}\n",
    "audio_features = {}\n",
    "for member in party:\n",
    "    print(member)\n",
    "    for playlist in spotify.playlists(party[member]).items:\n",
    "        if member==\"roma\":\n",
    "            print(playlist)\n",
    "        items = spotify.playlist_items(playlist.id)\n",
    "        items = list(spotify.all_items(items))\n",
    "        tracks_info.update({item.track.id:get_track_features(item.track, member) for item in items})\n",
    "        features = spotify.tracks_audio_features(list(tracks_info.keys()))\n",
    "        features = {feature.id:({k:v for k, v in feature.__dict__.items()}) \n",
    "                               for feature in features}\n",
    "        {features[k].update(tracks_info[k]) for k in features}\n",
    "        audio_features.update(features)\n",
    "    "
   ]
  },
  {
   "cell_type": "code",
   "execution_count": 228,
   "id": "023ccbb5",
   "metadata": {},
   "outputs": [],
   "source": [
    "import pandas as pd\n",
    "\n",
    "df = pd.DataFrame(audio_features.values())"
   ]
  },
  {
   "cell_type": "code",
   "execution_count": 229,
   "id": "386109dc",
   "metadata": {},
   "outputs": [],
   "source": [
    "df.to_csv(\"party_preference.csv\", index=False)"
   ]
  },
  {
   "cell_type": "markdown",
   "id": "fb520af4",
   "metadata": {},
   "source": [
    "## Recommendation system (simple)"
   ]
  },
  {
   "cell_type": "code",
   "execution_count": 230,
   "id": "c5e82b3f",
   "metadata": {},
   "outputs": [],
   "source": [
    "import pandas as pd\n",
    "import numpy as np\n",
    "\n",
    "data = pd.read_csv(\"party_preference.csv\")\n",
    "a = data.select_dtypes(np.number)\n",
    "a.to_csv(\"song_features.csv\", index=False)"
   ]
  },
  {
   "cell_type": "code",
   "execution_count": 231,
   "id": "1e16ff64",
   "metadata": {},
   "outputs": [
    {
     "data": {
      "text/plain": [
       "array(['lenar', 'igor', 'farit', 'artem'], dtype=object)"
      ]
     },
     "execution_count": 231,
     "metadata": {},
     "output_type": "execute_result"
    }
   ],
   "source": [
    "data.member.unique()"
   ]
  },
  {
   "cell_type": "code",
   "execution_count": 232,
   "id": "491cf71a",
   "metadata": {},
   "outputs": [],
   "source": [
    "import csv\n",
    "\n",
    "def get_party_data():\n",
    "    party_data = csv.DictReader(\n",
    "        (x for x in open(\"party_preference.csv\",\"r\"))\n",
    "    )\n",
    "    \n",
    "    return party_data\n",
    "\n",
    "def get_song_features():\n",
    "    song_features = csv.DictReader(\n",
    "            (x for x in open(\"song_features.csv\",\"r\"))\n",
    "        )\n",
    "    return song_features"
   ]
  },
  {
   "cell_type": "code",
   "execution_count": 233,
   "id": "95c1455e",
   "metadata": {},
   "outputs": [
    {
     "name": "stdout",
     "output_type": "stream",
     "text": [
      "{\n",
      "    \"id\": \"3uOIoS7lOvzQAtbbyttHp6\",\n",
      "    \"acousticness\": \"0.0791\",\n",
      "    \"analysis_url\": \"https://api.spotify.com/v1/audio-analysis/3uOIoS7lOvzQAtbbyttHp6\",\n",
      "    \"danceability\": \"0.717\",\n",
      "    \"duration_ms\": \"201160\",\n",
      "    \"energy\": \"0.758\",\n",
      "    \"instrumentalness\": \"7.08e-06\",\n",
      "    \"key\": \"2\",\n",
      "    \"liveness\": \"0.293\",\n",
      "    \"loudness\": \"-5.576\",\n",
      "    \"mode\": \"0\",\n",
      "    \"speechiness\": \"0.268\",\n",
      "    \"tempo\": \"91.983\",\n",
      "    \"time_signature\": \"4\",\n",
      "    \"track_href\": \"https://api.spotify.com/v1/tracks/3uOIoS7lOvzQAtbbyttHp6\",\n",
      "    \"type\": \"audio_features\",\n",
      "    \"uri\": \"spotify:track:3uOIoS7lOvzQAtbbyttHp6\",\n",
      "    \"valence\": \"0.252\",\n",
      "    \"song_name\": \"BUZZCUT (feat. Danny Brown)\",\n",
      "    \"explicit\": \"True\",\n",
      "    \"popularity\": \"58\",\n",
      "    \"member\": \"lenar\"\n",
      "}\n",
      "{\n",
      "    \"acousticness\": \"0.0791\",\n",
      "    \"danceability\": \"0.717\",\n",
      "    \"duration_ms\": \"201160\",\n",
      "    \"energy\": \"0.758\",\n",
      "    \"instrumentalness\": \"7.08e-06\",\n",
      "    \"key\": \"2\",\n",
      "    \"liveness\": \"0.293\",\n",
      "    \"loudness\": \"-5.576\",\n",
      "    \"mode\": \"0\",\n",
      "    \"speechiness\": \"0.268\",\n",
      "    \"tempo\": \"91.983\",\n",
      "    \"time_signature\": \"4\",\n",
      "    \"valence\": \"0.252\",\n",
      "    \"popularity\": \"58\"\n",
      "}\n"
     ]
    }
   ],
   "source": [
    "import json\n",
    "from itertools import islice\n",
    "for line in islice(get_party_data(), 1):\n",
    "    print(json.dumps(line, indent=4))\n",
    "\n",
    "for line in islice(get_song_features(), 1):\n",
    "    print(json.dumps(line, indent=4))"
   ]
  },
  {
   "cell_type": "code",
   "execution_count": 234,
   "id": "c6a06c02",
   "metadata": {},
   "outputs": [],
   "source": [
    "from lightfm.data import Dataset"
   ]
  },
  {
   "cell_type": "code",
   "execution_count": 235,
   "id": "957e8805",
   "metadata": {},
   "outputs": [],
   "source": [
    "dataset=Dataset()\n",
    "dataset.fit(\n",
    "    (x['member'] for x in get_party_data()),\n",
    "    (x['id'] for x in get_party_data())\n",
    ")"
   ]
  },
  {
   "cell_type": "code",
   "execution_count": 236,
   "id": "f30b86a0",
   "metadata": {},
   "outputs": [
    {
     "name": "stdout",
     "output_type": "stream",
     "text": [
      "Num users: 4, num_items 2298.\n"
     ]
    }
   ],
   "source": [
    "num_users, num_items = dataset.interactions_shape()\n",
    "print('Num users: {}, num_items {}.'.format(num_users, num_items))"
   ]
  },
  {
   "cell_type": "code",
   "execution_count": 237,
   "id": "c533877f",
   "metadata": {},
   "outputs": [],
   "source": [
    "dataset.fit_partial(items=(x['id'] for x in get_party_data()),\n",
    "                    item_features=(tuple(x.values()) for x in get_song_features()))"
   ]
  },
  {
   "cell_type": "code",
   "execution_count": 238,
   "id": "6b2c317a",
   "metadata": {},
   "outputs": [
    {
     "data": {
      "text/plain": [
       "\"<4x2298 sparse matrix of type '<class 'numpy.int32'>'\\n\\twith 2298 stored elements in COOrdinate format>\""
      ]
     },
     "execution_count": 238,
     "metadata": {},
     "output_type": "execute_result"
    }
   ],
   "source": [
    "interactions,_ = dataset.build_interactions((x['member'],x['id']) for x in get_party_data())\n",
    "repr(interactions)"
   ]
  },
  {
   "cell_type": "code",
   "execution_count": 239,
   "id": "4762c8ad",
   "metadata": {},
   "outputs": [],
   "source": [
    "ids = [x['id'] for x in get_party_data()]\n",
    "item_features = dataset.build_item_features(((x[0], [tuple(x[1].values())])\n",
    "                                              for x in zip(ids,get_song_features())))\n"
   ]
  },
  {
   "cell_type": "code",
   "execution_count": 321,
   "id": "9cc1a5fe",
   "metadata": {},
   "outputs": [
    {
     "data": {
      "text/plain": [
       "<lightfm.lightfm.LightFM at 0x7f9b7d20a6a0>"
      ]
     },
     "execution_count": 321,
     "metadata": {},
     "output_type": "execute_result"
    }
   ],
   "source": [
    "from lightfm import LightFM\n",
    "\n",
    "model = LightFM(loss='warp-kos', k=3)\n",
    "model.fit(interactions, item_features=item_features, epochs=100)"
   ]
  },
  {
   "cell_type": "code",
   "execution_count": 322,
   "id": "1979d4d1",
   "metadata": {},
   "outputs": [
    {
     "name": "stdout",
     "output_type": "stream",
     "text": [
      "Collaborative filtering train AUC: 0.9498484\n"
     ]
    }
   ],
   "source": [
    "from lightfm.evaluation import auc_score\n",
    "\n",
    "# Compute and print the AUC score\n",
    "train_auc = auc_score(model, interactions, item_features=item_features, num_threads=4).mean()\n",
    "print('Collaborative filtering train AUC: %s' % train_auc)"
   ]
  },
  {
   "cell_type": "code",
   "execution_count": 317,
   "id": "169479ca",
   "metadata": {},
   "outputs": [],
   "source": [
    "from collections import Counter\n",
    "n_users, n_items = interactions.shape\n",
    "common_scores = np.zeros(n_items)\n",
    "simple_rank = Counter()\n",
    "for user_id in range(n_users):\n",
    "    scores = model.predict(user_id, np.arange(n_items))\n",
    "    top_items = data['id'].iloc[np.argsort(-scores)].tolist()[:1000]\n",
    "    simple_rank+=Counter(top_items)\n",
    "    common_scores+=scores\n",
    "    "
   ]
  },
  {
   "cell_type": "code",
   "execution_count": 318,
   "id": "ebdc109f",
   "metadata": {},
   "outputs": [],
   "source": [
    "sorted_scores = np.sort(-scores)\n",
    "top_items = {k:v for k,v in zip(data['id'].iloc[np.argsort(-scores)].tolist(), sorted_scores)}\n",
    "simple_rank = {k:top_items[k] for k,v in simple_rank.most_common(50)}"
   ]
  },
  {
   "cell_type": "code",
   "execution_count": 319,
   "id": "4e66f69a",
   "metadata": {},
   "outputs": [],
   "source": [
    "simple_rank = {k:v for k,v in sorted(simple_rank.items(), key=lambda x:x[1])}"
   ]
  },
  {
   "cell_type": "code",
   "execution_count": 320,
   "id": "48dc20f4",
   "metadata": {},
   "outputs": [
    {
     "name": "stdout",
     "output_type": "stream",
     "text": [
      "['Bolo Ta Ra Ra']\n",
      "['Paint Me Silver']\n",
      "['Sentimental Trash']\n",
      "['Comanche Moon']\n",
      "['4ÆM']\n",
      "['Summer Madness']\n",
      "['Check Yo Self - Remix']\n",
      "['Seagulls']\n",
      "['Hey Pachuco!']\n",
      "['As You Move Through The World']\n",
      "['Space Echo']\n",
      "['Electric Feel']\n",
      "[\"Where's Your Head At\"]\n",
      "['Cypis - Gdzie jest biały węgorz ? (Zejście)']\n",
      "[\"Don't Worry Be Happy\"]\n",
      "['Rock Music']\n",
      "['Ordinary Pleasure']\n",
      "['Русский андеграунд']\n",
      "['xxx']\n",
      "['Walkabout (W/ Noah Lennox)']\n",
      "['Feel']\n",
      "['Мёртвый сезон']\n",
      "['いつも雨']\n",
      "['Contact']\n",
      "['Slow Jam 1']\n",
      "['funee monkee gif']\n",
      "['False Mirror']\n",
      "['Tank!']\n",
      "['The Getaway']\n",
      "['Искра']\n",
      "['Lovesick']\n",
      "['真夜中のドア〜stay with me']\n",
      "['Kanzen kankaku Dreamer']\n",
      "['Mariem']\n",
      "['ЗАХОТЕЛ – ВЗЯЛ']\n",
      "['Первомай']\n",
      "['Soul Tan']\n",
      "['Lucid Dream']\n",
      "['Higashikaze ni Sasoware']\n",
      "['Lovely']\n",
      "['Atomic Bomb - Cover']\n",
      "['Нелюбовь']\n",
      "['Sunflower']\n",
      "[\"Lesson In Leavin'\"]\n",
      "['Something In The Way']\n",
      "['Englishman In New York - My Songs Version']\n",
      "[\"Cruisin'\"]\n",
      "['Et cétéra']\n",
      "['Buttercup']\n",
      "['Resonance']\n"
     ]
    }
   ],
   "source": [
    "for rank in simple_rank:\n",
    "    print(data[data['id']==rank]['song_name'].values)"
   ]
  },
  {
   "cell_type": "code",
   "execution_count": null,
   "id": "850566bd",
   "metadata": {},
   "outputs": [],
   "source": []
  }
 ],
 "metadata": {
  "kernelspec": {
   "display_name": "Python 3 (ipykernel)",
   "language": "python",
   "name": "python3"
  },
  "language_info": {
   "codemirror_mode": {
    "name": "ipython",
    "version": 3
   },
   "file_extension": ".py",
   "mimetype": "text/x-python",
   "name": "python",
   "nbconvert_exporter": "python",
   "pygments_lexer": "ipython3",
   "version": "3.8.11"
  }
 },
 "nbformat": 4,
 "nbformat_minor": 5
}
